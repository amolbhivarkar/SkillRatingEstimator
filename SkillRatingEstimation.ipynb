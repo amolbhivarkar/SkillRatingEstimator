{
  "nbformat": 4,
  "nbformat_minor": 0,
  "metadata": {
    "colab": {
      "provenance": [],
      "authorship_tag": "ABX9TyNkr6PjN0nf3P5VsEQRkTUp",
      "include_colab_link": true
    },
    "kernelspec": {
      "name": "python3",
      "display_name": "Python 3"
    },
    "language_info": {
      "name": "python"
    }
  },
  "cells": [
    {
      "cell_type": "markdown",
      "metadata": {
        "id": "view-in-github",
        "colab_type": "text"
      },
      "source": [
        "<a href=\"https://colab.research.google.com/github/amolbhivarkar/SkillRatingEstimator/blob/main/SkillRatingEstimation.ipynb\" target=\"_parent\"><img src=\"https://colab.research.google.com/assets/colab-badge.svg\" alt=\"Open In Colab\"/></a>"
      ]
    },
    {
      "cell_type": "code",
      "execution_count": 1,
      "metadata": {
        "id": "FNq9G6OpULYk"
      },
      "outputs": [],
      "source": [
        "# Python 3 program for Elo Rating\n",
        "import math\n",
        "\n",
        "# Function to calculate the Probability\n",
        "# Scaling factor = 400. Tweak this factor as per requirement\n",
        "def Probability(rating1, rating2):\n",
        "\n",
        "\treturn 1.0 / (1 + 1.0 * math.pow(10, 1.0 * (rating1 - rating2) / 400))\n",
        "\n",
        "\n",
        "# Function to calculate Elo rating\n",
        "# K is a constant to control the rate of change of the new rating.\n",
        "# d determines whether\n",
        "# Player A wins or Player B.\n",
        "def EloRating(Ra, Rb, K, d):\n",
        "\n",
        "\n",
        "\t# To calculate the Winning\n",
        "\t# Probability of Player B\n",
        "\tPb = Probability(Ra, Rb)\n",
        "\n",
        "\t# To calculate the Winning\n",
        "\t# Probability of Player A\n",
        "\tPa = Probability(Rb, Ra)\n",
        "\n",
        "\t# Case -1 When Player A wins\n",
        "\t# Updating the Elo Ratings\n",
        "\tif (d == 1) :\n",
        "\t\tRa = Ra + K * (1 - Pa)\n",
        "\t\tRb = Rb + K * (0 - Pb)\n",
        "\t\n",
        "\n",
        "\t# Case -2 When Player B wins\n",
        "\t# Updating the Elo Ratings\n",
        "\telse :\n",
        "\t\tRa = Ra + K * (0 - Pa)\n",
        "\t\tRb = Rb + K * (1 - Pb)\n",
        "\t\n",
        "\n",
        "\tprint(\"Updated Ratings:-\")\n",
        "\tprint(\"Ra =\", round(Ra, 6),\" Rb =\", round(Rb, 6))"
      ]
    },
    {
      "cell_type": "code",
      "source": [
        "# Ra and Rb are current ELO ratings for Player 1 and Player 2 respectively\n",
        "Ra = 1200\n",
        "Rb = 1000\n",
        "K = 32\n",
        "d = 1\n",
        "EloRating(Ra, Rb, K, d)"
      ],
      "metadata": {
        "colab": {
          "base_uri": "https://localhost:8080/"
        },
        "id": "NcZEwp_VUWko",
        "outputId": "2ce33960-c973-4572-f01e-7afa7cadab90"
      },
      "execution_count": 2,
      "outputs": [
        {
          "output_type": "stream",
          "name": "stdout",
          "text": [
            "Updated Ratings:-\n",
            "Ra = 1207.688098  Rb = 992.311902\n"
          ]
        }
      ]
    }
  ]
}
